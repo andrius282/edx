{
  "nbformat": 4,
  "nbformat_minor": 0,
  "metadata": {
    "colab": {
      "name": "Edx IBM",
      "provenance": [],
      "collapsed_sections": [],
      "toc_visible": true,
      "authorship_tag": "ABX9TyMMA1jyKcDm9xRbde67PAwl",
      "include_colab_link": true
    },
    "kernelspec": {
      "name": "python3",
      "display_name": "Python 3"
    }
  },
  "cells": [
    {
      "cell_type": "markdown",
      "metadata": {
        "id": "view-in-github",
        "colab_type": "text"
      },
      "source": [
        "<a href=\"https://colab.research.google.com/github/andrius282/edx/blob/master/Edx_IBM.ipynb\" target=\"_parent\"><img src=\"https://colab.research.google.com/assets/colab-badge.svg\" alt=\"Open In Colab\"/></a>"
      ]
    },
    {
      "cell_type": "markdown",
      "metadata": {
        "id": "zHHplq9lJYjc",
        "colab_type": "text"
      },
      "source": [
        "# Intro\n",
        "\n",
        "The value in the parentheses is called the\n",
        "argument.\n",
        "\n",
        "Lists and tuples, are called compound data types and are one of the key types of data structures in Python.\n",
        "\n",
        "Sets and dictionaries are types of collections."
      ]
    },
    {
      "cell_type": "code",
      "metadata": {
        "id": "9WP8EXRUUfpd",
        "colab_type": "code",
        "outputId": "05afe62e-fc7c-4e2a-999f-1d3d8208f326",
        "colab": {
          "base_uri": "https://localhost:8080/",
          "height": 35
        }
      },
      "source": [
        "type(1) #shows a data type of an expression\n",
        "\n",
        "float(2) # converts int 2 to a float\n",
        "int(3.4) # returns float to an int. Result is 3\n",
        "type(True) # A Boolean can take on two values. The first value is true, just remember we use an uppercase T. Boolean values can also be False\n",
        "#If you cast a 1 to a Boolean, you get a true. Similarly, if you cast a 0 to a Boolean, you get a false.\n"
      ],
      "execution_count": 0,
      "outputs": [
        {
          "output_type": "execute_result",
          "data": {
            "text/plain": [
              "bool"
            ]
          },
          "metadata": {
            "tags": []
          },
          "execution_count": 72
        }
      ]
    },
    {
      "cell_type": "markdown",
      "metadata": {
        "id": "x1maHvEqWJu8",
        "colab_type": "text"
      },
      "source": [
        "# Expressions & Variables\n",
        "\n",
        "Expressions describe a type of operation that computers perform. Basic arithmetic operations like adding multiple numbers. \n",
        "\n",
        "We call the numbers **Operands** and math symbols - **Operators**.\n",
        "\n",
        "25/5 will result in a float 5.0 if you want int value use double sign //\n",
        "\n",
        "Python follows mathematical convention. E.g 2+2*2 = 6\n",
        "\n",
        "We can use variables to store values which can be upadated.We can also perform operations on A and save the result to a new variable"
      ]
    },
    {
      "cell_type": "code",
      "metadata": {
        "id": "H50w7h_3WSeA",
        "colab_type": "code",
        "outputId": "353a3db0-b36c-49bd-b121-cf3ef45e1281",
        "colab": {
          "base_uri": "https://localhost:8080/",
          "height": 69
        }
      },
      "source": [
        "A = 10\n",
        "print(A)\n",
        "A = 3\n",
        "print(A)\n",
        "\n",
        "y = 15//A\n",
        "print(y)\n"
      ],
      "execution_count": 0,
      "outputs": [
        {
          "output_type": "stream",
          "text": [
            "10\n",
            "3\n",
            "5\n"
          ],
          "name": "stdout"
        }
      ]
    },
    {
      "cell_type": "markdown",
      "metadata": {
        "id": "nSIHrb3OYo15",
        "colab_type": "text"
      },
      "source": [
        "#String\n",
        "In Python, a string is a sequence of characters. A string is contained within single or double quotes.\n",
        "\n",
        "It is helpful to think of a string as an ordered sequence. Each element in the sequence can be accessed using an index represented by the array of numbers.  The **method find**, finds sub-strings. The argument is the sub-string you would like\n",
        "to find. The output is the first index of the sequence. Method always appears after a variable name!!!\n",
        "\n",
        "***Strings are immutable.***\n"
      ]
    },
    {
      "cell_type": "code",
      "metadata": {
        "id": "Bg3VnwKcZ3zT",
        "colab_type": "code",
        "outputId": "25b58593-d5fa-495a-87d9-7c7314311f1e",
        "colab": {
          "base_uri": "https://localhost:8080/",
          "height": 208
        }
      },
      "source": [
        "name = \"Andrius a\"\n",
        "surname = \"Anta\"\n",
        "capital = name.upper()\n",
        "print(capital)\n",
        "\n",
        "name.replace(\"a\",\"AAaaa\")\n",
        "print(name)\n",
        "\n",
        "c = capital.replace(\"S\",\"s\")\n",
        "print(c)\n",
        "\n",
        "b = name.find(\"a\")\n",
        "print(b)\n",
        "\n",
        "d = f\"{name} {surname}\" #uses a variable's value inside a string. f stands for format\n",
        "print(d)\n",
        "\n",
        "full_name = f\"{name} {surname}\"\n",
        "print(f\"Hello, {full_name.title()}!\") #this can also be assigned to a variable\n",
        "\n",
        "print(\"\\tLanguages\") # adds a white space\n",
        "print(\"Python\\nJava\\nC\") # adds a new line to a string\n",
        "space = \"Andrius \"\n",
        "print(space.strip()) #removes spaces from left and right you can also remove right or left strips.\n",
        "\n"
      ],
      "execution_count": 0,
      "outputs": [
        {
          "output_type": "stream",
          "text": [
            "ANDRIUS A\n",
            "Andrius a\n",
            "ANDRIUs A\n",
            "8\n",
            "Andrius a Anta\n",
            "Hello, Andrius A Anta!\n",
            "\tLanguages\n",
            "Python\n",
            "Java\n",
            "C\n",
            "Andrius\n"
          ],
          "name": "stdout"
        }
      ]
    },
    {
      "cell_type": "markdown",
      "metadata": {
        "id": "T8DV8gcLcS_1",
        "colab_type": "text"
      },
      "source": [
        "# Tuples & List\n",
        "These are called compound data types and are one of the key types of data structures in Python.\n",
        "\n",
        "Tuples are an ordered sequence.Tuples are expressed as comma-separated elements within parentheses. These are values inside the parentheses. In Python, there are different types: strings, integer, float. They can all be contained in a tuple, but the type of the variable is tuple.\n",
        "\n",
        "Each element of a tuple can be accessed via an index. First element of a tuple starts from **0**.\n",
        "\n",
        "**Tuples are immutable!!!** if we would like to manipulate a tuple, we must create a new tuple instead.\n",
        "\n",
        "A tuple can contain other tuples as well as other complex data types; this is called nesting. We can access these elements using the standard indexing methods.\n",
        "\n",
        "**Lists** are also an ordered sequence.  A list is represented with square brackets. In many respects lists are like tuples, one key difference is **they are mutable.** Lists can contain strings, floats, integers.\n",
        "We can nest other lists. We also nest tuples and other data structures; the same indexing conventions apply for nesting.\n",
        "\n",
        "Lists are mutable, therefore, we can change them.\n",
        "For example, we apply the method extends by adding a \"dot\" followed by the name of the method, then parenthesis. The argument inside the parenthesis is a new list that we are going to concatenate to the original list.\n",
        "\n",
        "We can delete an element of a list using the \"del\" command; we simply indicate the list item we would like to remove as an argument.\n",
        "\n",
        "**We can convert a string to a list using split.** For example, the method split converts every group of characters separated by a space into an element of a list. We can use the split function to separate strings on a specific character, known as a delimiter. We simply pass the delimiter we would like to split on as an argument, in this case a comma.\n",
        "\n",
        "You can clone lists. (see example below)"
      ]
    },
    {
      "cell_type": "code",
      "metadata": {
        "id": "tsOVCQCCcsE9",
        "colab_type": "code",
        "outputId": "a24ae065-9894-4e9c-ee3c-ed7ba8567172",
        "colab": {
          "base_uri": "https://localhost:8080/",
          "height": 173
        }
      },
      "source": [
        "#LISTS\n",
        "\n",
        "list1 = [1,3,4,\"DD\",\"EE\"]\n",
        "list2 = list1 + [1.2,3,5,\"cc,ss\"]\n",
        " #print(list2[8])\n",
        "list1.extend([\"Andrius\",\"AA\",\"Lambo, Ferrari\"]) # two new elements has last index numbers.\n",
        "\n",
        "list1.append([\"RS,VV,WW\"]) # adds three new values as one new value as a list.\n",
        "list1[0] =\"New\" # changes an element in the list\n",
        "\n",
        "\"Hard rock\".split #splits a string into a list separated by a space\n",
        "\"A,B,c,d,e\".split(\",\") # split values into a list that had been specified by \",\" delimiter.\n",
        "\n",
        "del(list1[2:3]) # deletes first three element in a list\n",
        "\n",
        "cc = [1,2,3,4]\n",
        "dd = cc[:] #clones a list. Variable \"cc\" references one list. Variable “dd” references a new copy or clone of the original list. Now if you change “cc”, \"dd\" will not change.\n",
        "cc[0] = 4\n",
        "print(dd) # only initial cc list will be updated bot not the second dd\n",
        "\n",
        "#help(cc) #provides a list of functions what you can do with a list\n",
        "\n",
        "\n",
        "#Accessing Elements in a list\n",
        "\n",
        "cars = [\"LAMBO\", \"Bmw\", \"Audi\"]\n",
        "cars_formated = cars[0].title() #You can also use methods to format string in the list\n",
        "\n",
        "print(cars[-1].upper()) # -1 always access last element in the list.\n",
        "\n",
        "message = f\"My first car was {cars[0].lower()}!\" #uses individual value from a list\n",
        "\n",
        "# Adding Elements to the list\n",
        "\n",
        "bikes = [\"ducati\", \"yamaha\", \"suzuki\"]\n",
        "bikes[0] = \"honda\" #changes ducati element to honda\n",
        "bikes.append(\"Bmw\") # adds an element to a list. New alement is always added to the end of the list.\n",
        "empty_list = []\n",
        "empty_list.append(\"RR\") #adds an element to the empty list\n",
        "bikes.insert(0, \"Harley Davidson\") #adds an element at any position in the list\n",
        "\n",
        "#Removing Elements from the list\n",
        "\n",
        "del(bikes[1]) # removes second element from a list\n",
        "\n",
        "#The pop method removes the last item in a list, but it lets you work with that item after removing\n",
        "print(bikes)\n",
        "last_bike_i_owned = bikes.pop() # removes last element from the list\n",
        "print(poped_bikes)\n",
        "\n",
        "\n",
        "\n",
        "\n"
      ],
      "execution_count": 0,
      "outputs": [
        {
          "output_type": "stream",
          "text": [
            "Dance\n",
            "('Dance', 2, 4.5, 'Disco', 'Go', 3.5, 222)\n",
            "('Dance', 2, 4.5)\n",
            "('DD', 3)\n",
            "3\n",
            "[1, 2, 3, 4]\n",
            "AUDI\n",
            "['Harley Davidson', 'yamaha', 'suzuki', 'Bmw']\n",
            "Bmw\n"
          ],
          "name": "stdout"
        }
      ]
    },
    {
      "cell_type": "code",
      "metadata": {
        "colab_type": "code",
        "outputId": "29cd1bc8-453b-44ed-9fcb-2fbb304d08b6",
        "id": "MKoIVyeolRal",
        "colab": {
          "base_uri": "https://localhost:8080/",
          "height": 173
        }
      },
      "source": [
        "#LISTS\n",
        "\n",
        "list1 = [1,3,4,\"DD\",\"EE\"]\n",
        "list2 = list1 + [1.2,3,5,\"cc,ss\"]\n",
        " #print(list2[8])\n",
        "list1.extend([\"Andrius\",\"AA\",\"Lambo, Ferrari\"]) # two new elements has last index numbers.\n",
        "\n",
        "list1.append([\"RS,VV,WW\"]) # adds three new values as one new value as a list.\n",
        "list1[0] =\"New\" # changes an element in the list\n",
        "\n",
        "\"Hard rock\".split #splits a string into a list separated by a space\n",
        "\"A,B,c,d,e\".split(\",\") # split values into a list that had been specified by \",\" delimiter.\n",
        "\n",
        "del(list1[2:3]) # deletes first three element in a list\n",
        "\n",
        "cc = [1,2,3,4]\n",
        "dd = cc[:] #clones a list. Variable \"cc\" references one list. Variable “dd” references a new copy or clone of the original list. Now if you change “cc”, \"dd\" will not change.\n",
        "cc[0] = 4\n",
        "print(dd) # only initial cc list will be updated bot not the second dd\n",
        "\n",
        "#help(cc) #provides a list of functions what you can do with a list\n",
        "\n",
        "\n",
        "#Accessing Elements in a list\n",
        "\n",
        "cars = [\"LAMBO\", \"Bmw\", \"Audi\"]\n",
        "cars_formated = cars[0].title() #You can also use methods to format string in the list\n",
        "\n",
        "print(cars[-1].upper()) # -1 always access last element in the list.\n",
        "\n",
        "message = f\"My first car was {cars[0].lower()}!\" #uses individual value from a list\n",
        "\n",
        "# Adding Elements to the list\n",
        "\n",
        "bikes = [\"ducati\", \"yamaha\", \"suzuki\"]\n",
        "bikes[0] = \"honda\" #changes ducati element to honda\n",
        "bikes.append(\"Bmw\") # adds an element to a list. New alement is always added to the end of the list.\n",
        "empty_list = []\n",
        "empty_list.append(\"RR\") #adds an element to the empty list\n",
        "bikes.insert(0, \"Harley Davidson\") #adds an element at any position in the list\n",
        "\n",
        "#Removing Elements from the list\n",
        "\n",
        "del(bikes[1]) # removes second element from a list\n",
        "\n",
        "#The pop method removes the last item in a list, but it lets you work with that item after removing\n",
        "print(bikes)\n",
        "last_bike_i_owned = bikes.pop() # removes last element from the list. pop() method.\n",
        "removes_item = bikes.remove(\"suzuki\") # removes a specific item from a list\n",
        "too_expensive = \"yamaha\"\n",
        "bikes.remove(too_expensive) # you can also use a variable after method.\n",
        "\n",
        "#Sorting a list \n",
        "\n",
        "new_list = [\"C++\", \"Python\", \".NET\", \"Go\"]\n",
        "new_list.sort() # sorts a list in a alphabetical order\n",
        "new_list.sort(reverse=True) # sorts a list in reverse alphabetical order\n",
        "print(sorted(new_list)) #sorting a list with sorted() function\n",
        "new_list.reverse() #it doesn't sort the list but it just simply reverse permanently.\n",
        "\n",
        "#finding a lenght of a list\n",
        "len(new_list) # counts how many items are in the list"
      ],
      "execution_count": 4,
      "outputs": [
        {
          "output_type": "stream",
          "text": [
            "Dance\n",
            "('Dance', 2, 4.5, 'Disco', 'Go', 3.5, 222)\n",
            "('Dance', 2, 4.5)\n",
            "('DD', 3)\n",
            "3\n",
            "[1, 2, 3, 4]\n",
            "AUDI\n",
            "['Harley Davidson', 'yamaha', 'suzuki', 'Bmw']\n",
            "['.NET', 'C++', 'Go', 'Python']\n"
          ],
          "name": "stdout"
        }
      ]
    },
    {
      "cell_type": "code",
      "metadata": {
        "id": "DsWmGwJquGYm",
        "colab_type": "code",
        "colab": {
          "base_uri": "https://localhost:8080/",
          "height": 173
        },
        "outputId": "bed62e34-3550-4e5b-e4bc-9c11adb10be8"
      },
      "source": [
        "#Working with Lists\n",
        "\n",
        "cars = [\"BWM\", \"Audi\", \"Merc\"]\n",
        "for car in cars:\n",
        "  print(f\"I will buy a {car.title()}\") #here we reference a for loop name - car as apposed to list name cars\n",
        "  print(f\"from a {car.title()} dealer.\\n\")\n",
        "# for loop function translates as \"for every car in the list of cars, print the car's name and a message\"\n",
        "# every indented line following the line for car in cars: is considered inside the loop. Each indented line is executed once for each value of the list.\n",
        "# python uses indentation to determine how a line, or group lines, is related to the rest of the program.\n",
        "\n",
        "\n"
      ],
      "execution_count": 13,
      "outputs": [
        {
          "output_type": "stream",
          "text": [
            "I will buy a Bwm\n",
            "from a Bwm dealer.\n",
            "\n",
            "I will buy a Audi\n",
            "from a Audi dealer.\n",
            "\n",
            "I will buy a Merc\n",
            "from a Merc dealer.\n",
            "\n"
          ],
          "name": "stdout"
        }
      ]
    },
    {
      "cell_type": "code",
      "metadata": {
        "id": "UwX7Zqk3zLsc",
        "colab_type": "code",
        "colab": {
          "base_uri": "https://localhost:8080/",
          "height": 295
        },
        "outputId": "81c07f43-d3ad-419e-8532-859dbf7246e5"
      },
      "source": [
        "#Making numerical lists\n",
        "\n",
        "for value in range(1,5): #excludes last value 5 from the result\n",
        "  print(value)\n",
        "\n",
        "numbers = list(range(1,5)) # converts the result of range() function directly into a list using the list() function.\n",
        "print(numbers)\n",
        "\n",
        "even_numbers = list(range(2,11,2)) # skips numbers in a given range. \n",
        "# in this example, the range() function starts with the value 2 and then adds 2 to that value until it reaches the end value 11.\n",
        "\n",
        "empty_list = []\n",
        "for value in range(1,11):\n",
        "  square = value ** 2\n",
        "  empty_list.append(square)\n",
        "print(empty_list)\n",
        "\n",
        "#alternative\n",
        "emp_list = []\n",
        "for a in range(1,11):\n",
        "  emp_list.append(a**2)\n",
        "print(emp_list)\n",
        "\n",
        "#simple statistics with a list of numbers\n",
        "digits = range(1,11)\n",
        "min(digits)\n",
        "max(digits)\n",
        "sum(digits)\n",
        "\n",
        "#List Comprehensions\n",
        "squares = [value**2 for value in range(1,11)]\n",
        "#to use this syntax, begin with a name for the list. Then define the expression for the values you want to store in the new list. then write a for loop to generate the numbers you want to feed into the expression.\n",
        "\n",
        "#Working with a part of the list\n",
        "\n",
        "bikes = [\"ducati\", \"yamaha\", \"suzuki\", \"BMW\", \"Harley Davidson\"]\n",
        "print(bikes[0:3]) # returns first three items\n",
        "print(bikes[1:3]) # returns second and third items\n",
        "print(bikes[:3]) # if you omit the first index in a slice, Python auto starts index from the beginning\n",
        "print(bikes[2:]) # returns all items from the third item through the end of the list\n",
        "print(bikes[-3:]) #returns last three items in the list\n",
        "\n",
        "players = [\"AA\",\"AB\",\"AC\"]\n",
        "print(\"My team playres:\")\n",
        "for player in players[:3]:\n",
        "  print(player.lower())\n",
        "\n",
        "other_players = players[:] # copies a list"
      ],
      "execution_count": 32,
      "outputs": [
        {
          "output_type": "stream",
          "text": [
            "1\n",
            "2\n",
            "3\n",
            "4\n",
            "[1, 2, 3, 4]\n",
            "[1, 4, 9, 16, 25, 36, 49, 64, 81, 100]\n",
            "[1, 4, 9, 16, 25, 36, 49, 64, 81, 100]\n",
            "['ducati', 'yamaha', 'suzuki']\n",
            "['yamaha', 'suzuki']\n",
            "['ducati', 'yamaha', 'suzuki']\n",
            "['suzuki', 'BMW', 'Harley Davidson']\n",
            "['suzuki', 'BMW', 'Harley Davidson']\n",
            "My team playres:\n",
            "aa\n",
            "ab\n",
            "ac\n"
          ],
          "name": "stdout"
        }
      ]
    },
    {
      "cell_type": "code",
      "metadata": {
        "id": "VGPw_ZqPBHDb",
        "colab_type": "code",
        "colab": {
          "base_uri": "https://localhost:8080/",
          "height": 156
        },
        "outputId": "0cceb362-0615-4e6c-aecf-f817665d9428"
      },
      "source": [
        "#Tuples\n",
        "\n",
        "ratings = (1,2,3,4,5,6,7,8)\n",
        "\n",
        "tuple1 = (\"Dance\",2,4.5, \"Disco\")\n",
        "print(tuple1[0]) # returns a first element - result is \"Dance\"\n",
        "\n",
        "tuple2 = tuple1 + (\"Go\", 3.5, 222) #We can concatenate or combine tuples by adding them. Value \"Dance\" would still be index 0.\n",
        "print(tuple2)\n",
        "\n",
        "print(tuple2[0:3]) # returns first three elements\n",
        "len(tuple2) # returns a lenght of a tuple\n",
        "\n",
        "tuple3 = (1,3,(\"DD\",3),4,5)\n",
        "print(tuple3[2]) # a tuple inside in a tuple has one index value.\n",
        "print(tuple3[2][1]) # after that we can access another values in a tuple.\n",
        "\n",
        "single_value_tuple = (1,) # if we want to define a tuple with one element, you need to include a trailing comma.\n",
        "\n",
        "new_tuple = (1,2,34)\n",
        "for element in new_tuple:\n",
        "  print(new_tuple)"
      ],
      "execution_count": 35,
      "outputs": [
        {
          "output_type": "stream",
          "text": [
            "Dance\n",
            "('Dance', 2, 4.5, 'Disco', 'Go', 3.5, 222)\n",
            "('Dance', 2, 4.5)\n",
            "('DD', 3)\n",
            "3\n",
            "(1, 2, 34)\n",
            "(1, 2, 34)\n",
            "(1, 2, 34)\n"
          ],
          "name": "stdout"
        }
      ]
    },
    {
      "cell_type": "markdown",
      "metadata": {
        "id": "5gtkEQ1Y2Xx_",
        "colab_type": "text"
      },
      "source": [
        "# Sets\n",
        "Sets are a type of collection. This means that like lists and tuples, you\n",
        "can input different python types. Unlike lists and tuples they are unordered.\n",
        "This means sets do not record element position. Sets only have unique elements. To define a set, you use curly brackets You place the elements of a set within the curly brackets.\n",
        "\n",
        "You can convert a list to a set by using the function **set**; this is called type-casting.\n"
      ]
    },
    {
      "cell_type": "code",
      "metadata": {
        "id": "IgOCYbXz27Wo",
        "colab_type": "code",
        "outputId": "7d3841eb-1489-4642-f4ab-b9f6bf0be9d2",
        "colab": {
          "base_uri": "https://localhost:8080/",
          "height": 201
        }
      },
      "source": [
        "set1 = {\"A\",\"b\",\"b\",\"c\",\"d\"}\n",
        "len(set1) # result is 4.\n",
        "\n",
        "list1 = [1,2,2,2,3,4]\n",
        "newset = set(list1)"
      ],
      "execution_count": 0,
      "outputs": [
        {
          "output_type": "error",
          "ename": "TypeError",
          "evalue": "ignored",
          "traceback": [
            "\u001b[0;31m---------------------------------------------------------------------------\u001b[0m",
            "\u001b[0;31mTypeError\u001b[0m                                 Traceback (most recent call last)",
            "\u001b[0;32m<ipython-input-83-3bfac6525509>\u001b[0m in \u001b[0;36m<module>\u001b[0;34m()\u001b[0m\n\u001b[1;32m      3\u001b[0m \u001b[0;34m\u001b[0m\u001b[0m\n\u001b[1;32m      4\u001b[0m \u001b[0mlist1\u001b[0m \u001b[0;34m=\u001b[0m \u001b[0;34m[\u001b[0m\u001b[0;36m1\u001b[0m\u001b[0;34m,\u001b[0m\u001b[0;36m2\u001b[0m\u001b[0;34m,\u001b[0m\u001b[0;36m2\u001b[0m\u001b[0;34m,\u001b[0m\u001b[0;36m2\u001b[0m\u001b[0;34m,\u001b[0m\u001b[0;36m3\u001b[0m\u001b[0;34m,\u001b[0m\u001b[0;36m4\u001b[0m\u001b[0;34m]\u001b[0m\u001b[0;34m\u001b[0m\u001b[0;34m\u001b[0m\u001b[0m\n\u001b[0;32m----> 5\u001b[0;31m \u001b[0mnewset\u001b[0m \u001b[0;34m=\u001b[0m \u001b[0mset\u001b[0m\u001b[0;34m(\u001b[0m\u001b[0mlist1\u001b[0m\u001b[0;34m)\u001b[0m\u001b[0;34m\u001b[0m\u001b[0;34m\u001b[0m\u001b[0m\n\u001b[0m",
            "\u001b[0;31mTypeError\u001b[0m: 'set' object is not callable"
          ]
        }
      ]
    }
  ]
}