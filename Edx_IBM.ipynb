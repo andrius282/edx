{
  "nbformat": 4,
  "nbformat_minor": 0,
  "metadata": {
    "colab": {
      "name": "Edx IBM",
      "provenance": [],
      "collapsed_sections": [],
      "toc_visible": true,
      "authorship_tag": "ABX9TyPW6MLNw8GU0lK8NAs8Edfq",
      "include_colab_link": true
    },
    "kernelspec": {
      "name": "python3",
      "display_name": "Python 3"
    }
  },
  "cells": [
    {
      "cell_type": "markdown",
      "metadata": {
        "id": "view-in-github",
        "colab_type": "text"
      },
      "source": [
        "<a href=\"https://colab.research.google.com/github/andrius282/edx/blob/master/Edx_IBM.ipynb\" target=\"_parent\"><img src=\"https://colab.research.google.com/assets/colab-badge.svg\" alt=\"Open In Colab\"/></a>"
      ]
    },
    {
      "cell_type": "markdown",
      "metadata": {
        "id": "zHHplq9lJYjc",
        "colab_type": "text"
      },
      "source": [
        "# Intro\n",
        "\n",
        "The value in the parentheses is called the\n",
        "argument.\n",
        "\n",
        "Lists and tuples, are called compound data types and are one of the key types of data structures in Python.\n",
        "\n",
        "Sets and dictionaries are types of collections."
      ]
    },
    {
      "cell_type": "code",
      "metadata": {
        "id": "9WP8EXRUUfpd",
        "colab_type": "code",
        "outputId": "05afe62e-fc7c-4e2a-999f-1d3d8208f326",
        "colab": {
          "base_uri": "https://localhost:8080/",
          "height": 35
        }
      },
      "source": [
        "type(1) #shows a data type of an expression\n",
        "\n",
        "float(2) # converts int 2 to a float\n",
        "int(3.4) # returns float to an int. Result is 3\n",
        "type(True) # A Boolean can take on two values. The first value is true, just remember we use an uppercase T. Boolean values can also be False\n",
        "#If you cast a 1 to a Boolean, you get a true. Similarly, if you cast a 0 to a Boolean, you get a false.\n"
      ],
      "execution_count": 0,
      "outputs": [
        {
          "output_type": "execute_result",
          "data": {
            "text/plain": [
              "bool"
            ]
          },
          "metadata": {
            "tags": []
          },
          "execution_count": 72
        }
      ]
    },
    {
      "cell_type": "markdown",
      "metadata": {
        "id": "x1maHvEqWJu8",
        "colab_type": "text"
      },
      "source": [
        "# Expressions & Variables\n",
        "\n",
        "Expressions describe a type of operation that computers perform. Basic arithmetic operations like adding multiple numbers. \n",
        "\n",
        "We call the numbers **Operands** and math symbols - **Operators**.\n",
        "\n",
        "25/5 will result in a float 5.0 if you want int value use double sign //\n",
        "\n",
        "Python follows mathematical convention. E.g 2+2*2 = 6\n",
        "\n",
        "We can use variables to store values which can be upadated.We can also perform operations on A and save the result to a new variable"
      ]
    },
    {
      "cell_type": "code",
      "metadata": {
        "id": "H50w7h_3WSeA",
        "colab_type": "code",
        "outputId": "353a3db0-b36c-49bd-b121-cf3ef45e1281",
        "colab": {
          "base_uri": "https://localhost:8080/",
          "height": 69
        }
      },
      "source": [
        "A = 10\n",
        "print(A)\n",
        "A = 3\n",
        "print(A)\n",
        "\n",
        "y = 15//A\n",
        "print(y)\n"
      ],
      "execution_count": 0,
      "outputs": [
        {
          "output_type": "stream",
          "text": [
            "10\n",
            "3\n",
            "5\n"
          ],
          "name": "stdout"
        }
      ]
    },
    {
      "cell_type": "markdown",
      "metadata": {
        "id": "nSIHrb3OYo15",
        "colab_type": "text"
      },
      "source": [
        "#String\n",
        "In Python, a string is a sequence of characters. A string is contained within single or double quotes.\n",
        "\n",
        "It is helpful to think of a string as an ordered sequence. Each element in the sequence can be accessed using an index represented by the array of numbers.  The **method find**, finds sub-strings. The argument is the sub-string you would like\n",
        "to find. The output is the first index of the sequence. Method always appears after a variable name!!!\n",
        "\n",
        "***Strings are immutable.***\n"
      ]
    },
    {
      "cell_type": "code",
      "metadata": {
        "id": "Bg3VnwKcZ3zT",
        "colab_type": "code",
        "outputId": "25b58593-d5fa-495a-87d9-7c7314311f1e",
        "colab": {
          "base_uri": "https://localhost:8080/",
          "height": 208
        }
      },
      "source": [
        "name = \"Andrius a\"\n",
        "surname = \"Anta\"\n",
        "capital = name.upper()\n",
        "print(capital)\n",
        "\n",
        "name.replace(\"a\",\"AAaaa\")\n",
        "print(name)\n",
        "\n",
        "c = capital.replace(\"S\",\"s\")\n",
        "print(c)\n",
        "\n",
        "b = name.find(\"a\")\n",
        "print(b)\n",
        "\n",
        "d = f\"{name} {surname}\" #uses a variable's value inside a string. f stands for format\n",
        "print(d)\n",
        "\n",
        "full_name = f\"{name} {surname}\"\n",
        "print(f\"Hello, {full_name.title()}!\") #this can also be assigned to a variable\n",
        "\n",
        "print(\"\\tLanguages\") # adds a white space\n",
        "print(\"Python\\nJava\\nC\") # adds a new line to a string\n",
        "space = \"Andrius \"\n",
        "print(space.strip()) #removes spaces from left and right you can also remove right or left strips.\n",
        "\n"
      ],
      "execution_count": 0,
      "outputs": [
        {
          "output_type": "stream",
          "text": [
            "ANDRIUS A\n",
            "Andrius a\n",
            "ANDRIUs A\n",
            "8\n",
            "Andrius a Anta\n",
            "Hello, Andrius A Anta!\n",
            "\tLanguages\n",
            "Python\n",
            "Java\n",
            "C\n",
            "Andrius\n"
          ],
          "name": "stdout"
        }
      ]
    },
    {
      "cell_type": "markdown",
      "metadata": {
        "id": "T8DV8gcLcS_1",
        "colab_type": "text"
      },
      "source": [
        "# Tuples & List\n",
        "These are called compound data types and are one of the key types of data structures in Python.\n",
        "\n",
        "Tuples are an ordered sequence.Tuples are expressed as comma-separated elements within parentheses. These are values inside the parentheses. In Python, there are different types: strings, integer, float. They can all be contained in a tuple, but the type of the variable is tuple.\n",
        "\n",
        "Each element of a tuple can be accessed via an index. First element of a tuple starts from **0**.\n",
        "\n",
        "**Tuples are immutable!!!** if we would like to manipulate a tuple, we must create a new tuple instead.\n",
        "\n",
        "A tuple can contain other tuples as well as other complex data types; this is called nesting. We can access these elements using the standard indexing methods.\n",
        "\n",
        "**Lists** are also an ordered sequence.  A list is represented with square brackets. In many respects lists are like tuples, one key difference is **they are mutable.** Lists can contain strings, floats, integers.\n",
        "We can nest other lists. We also nest tuples and other data structures; the same indexing conventions apply for nesting.\n",
        "\n",
        "Lists are mutable, therefore, we can change them.\n",
        "For example, we apply the method extends by adding a \"dot\" followed by the name of the method, then parenthesis. The argument inside the parenthesis is a new list that we are going to concatenate to the original list.\n",
        "\n",
        "We can delete an element of a list using the \"del\" command; we simply indicate the list item we would like to remove as an argument.\n",
        "\n",
        "**We can convert a string to a list using split.** For example, the method split converts every group of characters separated by a space into an element of a list. We can use the split function to separate strings on a specific character, known as a delimiter. We simply pass the delimiter we would like to split on as an argument, in this case a comma.\n",
        "\n",
        "You can clone lists. (see example below)"
      ]
    },
    {
      "cell_type": "code",
      "metadata": {
        "id": "tsOVCQCCcsE9",
        "colab_type": "code",
        "outputId": "a24ae065-9894-4e9c-ee3c-ed7ba8567172",
        "colab": {
          "base_uri": "https://localhost:8080/",
          "height": 173
        }
      },
      "source": [
        "#LISTS\n",
        "\n",
        "list1 = [1,3,4,\"DD\",\"EE\"]\n",
        "list2 = list1 + [1.2,3,5,\"cc,ss\"]\n",
        " #print(list2[8])\n",
        "list1.extend([\"Andrius\",\"AA\",\"Lambo, Ferrari\"]) # two new elements has last index numbers.\n",
        "\n",
        "list1.append([\"RS,VV,WW\"]) # adds three new values as one new value as a list.\n",
        "list1[0] =\"New\" # changes an element in the list\n",
        "\n",
        "\"Hard rock\".split #splits a string into a list separated by a space\n",
        "\"A,B,c,d,e\".split(\",\") # split values into a list that had been specified by \",\" delimiter.\n",
        "\n",
        "del(list1[2:3]) # deletes first three element in a list\n",
        "\n",
        "cc = [1,2,3,4]\n",
        "dd = cc[:] #clones a list. Variable \"cc\" references one list. Variable “dd” references a new copy or clone of the original list. Now if you change “cc”, \"dd\" will not change.\n",
        "cc[0] = 4\n",
        "print(dd) # only initial cc list will be updated bot not the second dd\n",
        "\n",
        "#help(cc) #provides a list of functions what you can do with a list\n",
        "\n",
        "\n",
        "#Accessing Elements in a list\n",
        "\n",
        "cars = [\"LAMBO\", \"Bmw\", \"Audi\"]\n",
        "cars_formated = cars[0].title() #You can also use methods to format string in the list\n",
        "\n",
        "print(cars[-1].upper()) # -1 always access last element in the list.\n",
        "\n",
        "message = f\"My first car was {cars[0].lower()}!\" #uses individual value from a list\n",
        "\n",
        "# Adding Elements to the list\n",
        "\n",
        "bikes = [\"ducati\", \"yamaha\", \"suzuki\"]\n",
        "bikes[0] = \"honda\" #changes ducati element to honda\n",
        "bikes.append(\"Bmw\") # adds an element to a list. New alement is always added to the end of the list.\n",
        "empty_list = []\n",
        "empty_list.append(\"RR\") #adds an element to the empty list\n",
        "bikes.insert(0, \"Harley Davidson\") #adds an element at any position in the list\n",
        "\n",
        "#Removing Elements from the list\n",
        "\n",
        "del(bikes[1]) # removes second element from a list\n",
        "\n",
        "#The pop method removes the last item in a list, but it lets you work with that item after removing\n",
        "print(bikes)\n",
        "last_bike_i_owned = bikes.pop() # removes last element from the list\n",
        "print(poped_bikes)\n",
        "\n",
        "\n",
        "\n",
        "\n"
      ],
      "execution_count": 0,
      "outputs": [
        {
          "output_type": "stream",
          "text": [
            "Dance\n",
            "('Dance', 2, 4.5, 'Disco', 'Go', 3.5, 222)\n",
            "('Dance', 2, 4.5)\n",
            "('DD', 3)\n",
            "3\n",
            "[1, 2, 3, 4]\n",
            "AUDI\n",
            "['Harley Davidson', 'yamaha', 'suzuki', 'Bmw']\n",
            "Bmw\n"
          ],
          "name": "stdout"
        }
      ]
    },
    {
      "cell_type": "code",
      "metadata": {
        "colab_type": "code",
        "outputId": "29cd1bc8-453b-44ed-9fcb-2fbb304d08b6",
        "id": "MKoIVyeolRal",
        "colab": {
          "base_uri": "https://localhost:8080/",
          "height": 173
        }
      },
      "source": [
        "#LISTS\n",
        "\n",
        "list1 = [1,3,4,\"DD\",\"EE\"]\n",
        "list2 = list1 + [1.2,3,5,\"cc,ss\"]\n",
        " #print(list2[8])\n",
        "list1.extend([\"Andrius\",\"AA\",\"Lambo, Ferrari\"]) # two new elements has last index numbers.\n",
        "\n",
        "list1.append([\"RS,VV,WW\"]) # adds three new values as one new value as a list.\n",
        "list1[0] =\"New\" # changes an element in the list\n",
        "\n",
        "\"Hard rock\".split #splits a string into a list separated by a space\n",
        "\"A,B,c,d,e\".split(\",\") # split values into a list that had been specified by \",\" delimiter.\n",
        "\n",
        "del(list1[2:3]) # deletes first three element in a list\n",
        "\n",
        "cc = [1,2,3,4]\n",
        "dd = cc[:] #clones a list. Variable \"cc\" references one list. Variable “dd” references a new copy or clone of the original list. Now if you change “cc”, \"dd\" will not change.\n",
        "cc[0] = 4\n",
        "print(dd) # only initial cc list will be updated bot not the second dd\n",
        "\n",
        "#help(cc) #provides a list of functions what you can do with a list\n",
        "\n",
        "\n",
        "#Accessing Elements in a list\n",
        "\n",
        "cars = [\"LAMBO\", \"Bmw\", \"Audi\"]\n",
        "cars_formated = cars[0].title() #You can also use methods to format string in the list\n",
        "\n",
        "print(cars[-1].upper()) # -1 always access last element in the list.\n",
        "\n",
        "message = f\"My first car was {cars[0].lower()}!\" #uses individual value from a list\n",
        "\n",
        "# Adding Elements to the list\n",
        "\n",
        "bikes = [\"ducati\", \"yamaha\", \"suzuki\"]\n",
        "bikes[0] = \"honda\" #changes ducati element to honda\n",
        "bikes.append(\"Bmw\") # adds an element to a list. New alement is always added to the end of the list.\n",
        "empty_list = []\n",
        "empty_list.append(\"RR\") #adds an element to the empty list\n",
        "bikes.insert(0, \"Harley Davidson\") #adds an element at any position in the list\n",
        "\n",
        "#Removing Elements from the list\n",
        "\n",
        "del(bikes[1]) # removes second element from a list\n",
        "\n",
        "#The pop method removes the last item in a list, but it lets you work with that item after removing\n",
        "print(bikes)\n",
        "last_bike_i_owned = bikes.pop() # removes last element from the list. pop() method.\n",
        "removes_item = bikes.remove(\"suzuki\") # removes a specific item from a list\n",
        "too_expensive = \"yamaha\"\n",
        "bikes.remove(too_expensive) # you can also use a variable after method.\n",
        "\n",
        "#Sorting a list \n",
        "\n",
        "new_list = [\"C++\", \"Python\", \".NET\", \"Go\"]\n",
        "new_list.sort() # sorts a list in a alphabetical order\n",
        "new_list.sort(reverse=True) # sorts a list in reverse alphabetical order\n",
        "print(sorted(new_list)) #sorting a list with sorted() function\n",
        "new_list.reverse() #it doesn't sort the list but it just simply reverse permanently.\n",
        "\n",
        "#finding a lenght of a list\n",
        "len(new_list) # counts how many items are in the list"
      ],
      "execution_count": 0,
      "outputs": [
        {
          "output_type": "stream",
          "text": [
            "Dance\n",
            "('Dance', 2, 4.5, 'Disco', 'Go', 3.5, 222)\n",
            "('Dance', 2, 4.5)\n",
            "('DD', 3)\n",
            "3\n",
            "[1, 2, 3, 4]\n",
            "AUDI\n",
            "['Harley Davidson', 'yamaha', 'suzuki', 'Bmw']\n",
            "['.NET', 'C++', 'Go', 'Python']\n"
          ],
          "name": "stdout"
        }
      ]
    },
    {
      "cell_type": "code",
      "metadata": {
        "id": "DsWmGwJquGYm",
        "colab_type": "code",
        "outputId": "bed62e34-3550-4e5b-e4bc-9c11adb10be8",
        "colab": {
          "base_uri": "https://localhost:8080/",
          "height": 173
        }
      },
      "source": [
        "#Working with Lists\n",
        "\n",
        "cars = [\"BWM\", \"Audi\", \"Merc\"]\n",
        "for car in cars:\n",
        "  print(f\"I will buy a {car.title()}\") #here we reference a for loop name - car as apposed to list name cars\n",
        "  print(f\"from a {car.title()} dealer.\\n\")\n",
        "# for loop function translates as \"for every car in the list of cars, print the car's name and a message\"\n",
        "# every indented line following the line for car in cars: is considered inside the loop. Each indented line is executed once for each value of the list.\n",
        "# python uses indentation to determine how a line, or group lines, is related to the rest of the program.\n",
        "\n",
        "\n"
      ],
      "execution_count": 0,
      "outputs": [
        {
          "output_type": "stream",
          "text": [
            "I will buy a Bwm\n",
            "from a Bwm dealer.\n",
            "\n",
            "I will buy a Audi\n",
            "from a Audi dealer.\n",
            "\n",
            "I will buy a Merc\n",
            "from a Merc dealer.\n",
            "\n"
          ],
          "name": "stdout"
        }
      ]
    },
    {
      "cell_type": "code",
      "metadata": {
        "id": "UwX7Zqk3zLsc",
        "colab_type": "code",
        "outputId": "81c07f43-d3ad-419e-8532-859dbf7246e5",
        "colab": {
          "base_uri": "https://localhost:8080/",
          "height": 295
        }
      },
      "source": [
        "#Making numerical lists\n",
        "\n",
        "for value in range(1,5): #excludes last value 5 from the result\n",
        "  print(value)\n",
        "\n",
        "numbers = list(range(1,5)) # converts the result of range() function directly into a list using the list() function.\n",
        "print(numbers)\n",
        "\n",
        "even_numbers = list(range(2,11,2)) # skips numbers in a given range. \n",
        "# in this example, the range() function starts with the value 2 and then adds 2 to that value until it reaches the end value 11.\n",
        "\n",
        "empty_list = []\n",
        "for value in range(1,11):\n",
        "  square = value ** 2\n",
        "  empty_list.append(square)\n",
        "print(empty_list)\n",
        "\n",
        "#alternative\n",
        "emp_list = []\n",
        "for a in range(1,11):\n",
        "  emp_list.append(a**2)\n",
        "print(emp_list)\n",
        "\n",
        "#simple statistics with a list of numbers\n",
        "digits = range(1,11)\n",
        "min(digits)\n",
        "max(digits)\n",
        "sum(digits)\n",
        "\n",
        "#List Comprehensions\n",
        "squares = [value**2 for value in range(1,11)]\n",
        "#to use this syntax, begin with a name for the list. Then define the expression for the values you want to store in the new list. then write a for loop to generate the numbers you want to feed into the expression.\n",
        "\n",
        "#Working with a part of the list\n",
        "\n",
        "bikes = [\"ducati\", \"yamaha\", \"suzuki\", \"BMW\", \"Harley Davidson\"]\n",
        "print(bikes[0:3]) # returns first three items\n",
        "print(bikes[1:3]) # returns second and third items\n",
        "print(bikes[:3]) # if you omit the first index in a slice, Python auto starts index from the beginning\n",
        "print(bikes[2:]) # returns all items from the third item through the end of the list\n",
        "print(bikes[-3:]) #returns last three items in the list\n",
        "\n",
        "players = [\"AA\",\"AB\",\"AC\"]\n",
        "print(\"My team playres:\")\n",
        "for player in players[:3]:\n",
        "  print(player.lower())\n",
        "\n",
        "other_players = players[:] # copies a list"
      ],
      "execution_count": 0,
      "outputs": [
        {
          "output_type": "stream",
          "text": [
            "1\n",
            "2\n",
            "3\n",
            "4\n",
            "[1, 2, 3, 4]\n",
            "[1, 4, 9, 16, 25, 36, 49, 64, 81, 100]\n",
            "[1, 4, 9, 16, 25, 36, 49, 64, 81, 100]\n",
            "['ducati', 'yamaha', 'suzuki']\n",
            "['yamaha', 'suzuki']\n",
            "['ducati', 'yamaha', 'suzuki']\n",
            "['suzuki', 'BMW', 'Harley Davidson']\n",
            "['suzuki', 'BMW', 'Harley Davidson']\n",
            "My team playres:\n",
            "aa\n",
            "ab\n",
            "ac\n"
          ],
          "name": "stdout"
        }
      ]
    },
    {
      "cell_type": "code",
      "metadata": {
        "id": "VGPw_ZqPBHDb",
        "colab_type": "code",
        "outputId": "0cceb362-0615-4e6c-aecf-f817665d9428",
        "colab": {
          "base_uri": "https://localhost:8080/",
          "height": 156
        }
      },
      "source": [
        "#Tuples\n",
        "\n",
        "ratings = (1,2,3,4,5,6,7,8)\n",
        "\n",
        "tuple1 = (\"Dance\",2,4.5, \"Disco\")\n",
        "print(tuple1[0]) # returns a first element - result is \"Dance\"\n",
        "\n",
        "tuple2 = tuple1 + (\"Go\", 3.5, 222) #We can concatenate or combine tuples by adding them. Value \"Dance\" would still be index 0.\n",
        "print(tuple2)\n",
        "\n",
        "print(tuple2[0:3]) # returns first three elements\n",
        "len(tuple2) # returns a lenght of a tuple\n",
        "\n",
        "tuple3 = (1,3,(\"DD\",3),4,5)\n",
        "print(tuple3[2]) # a tuple inside in a tuple has one index value.\n",
        "print(tuple3[2][1]) # after that we can access another values in a tuple.\n",
        "\n",
        "single_value_tuple = (1,) # if we want to define a tuple with one element, you need to include a trailing comma.\n",
        "\n",
        "new_tuple = (1,2,34)\n",
        "for element in new_tuple:\n",
        "  print(new_tuple)"
      ],
      "execution_count": 0,
      "outputs": [
        {
          "output_type": "stream",
          "text": [
            "Dance\n",
            "('Dance', 2, 4.5, 'Disco', 'Go', 3.5, 222)\n",
            "('Dance', 2, 4.5)\n",
            "('DD', 3)\n",
            "3\n",
            "(1, 2, 34)\n",
            "(1, 2, 34)\n",
            "(1, 2, 34)\n"
          ],
          "name": "stdout"
        }
      ]
    },
    {
      "cell_type": "markdown",
      "metadata": {
        "id": "e2sZtNBM2o-z",
        "colab_type": "text"
      },
      "source": [
        "#IF Statements#\n",
        "\n",
        "Important!!! Equalities\n",
        "1. car = \"audi\"\n",
        "2. car == \"audi\"\n",
        "The line 1 sets the value of car to \"audi\" using a SINGLE = sign\n",
        "The second line checks whether the value of car is \"audi\" using a DOUBLE equal sign.\n",
        "3. topping != \"cheese\" # <> sign\n",
        "4. Multiple conditions use and or comparison operators\n",
        "\n",
        "**The if-elif-else Chain**\n",
        "Often, you'll need to test more than two possible situations, and to evaluate those you can use Python's if-elif-else syntax. Python executes only one block in the syntax. It runs each conditional test in order until one passes. When test passes, the code following that test is executed and Python skips the rest of the tests. You can use as many elif blocks in your code as you like. **Omitting the else Block** Python doesn't require an else block at the end of an if-elif chain.\n",
        "**Testing Multiple Conditions** if-elif-else chain is powerful, but it's only appropriate to use when you justneed one test to pass. As soon as Python finds one test that passes, it skips the rest of the tests."
      ]
    },
    {
      "cell_type": "code",
      "metadata": {
        "id": "ri_n0a5Y1Oeb",
        "colab_type": "code",
        "outputId": "fd9eab83-1d7b-45d2-f8f8-11a701b5033b",
        "colab": {
          "base_uri": "https://localhost:8080/",
          "height": 399
        }
      },
      "source": [
        "#IF STATEMENTS\n",
        "\n",
        "cars = [\"Bmw\", \"Audi\", \"Toyota\", \"Skoda\", \"Bentley\"]\n",
        "\n",
        "for car in cars:\n",
        "  if car == \"Bmw\":\n",
        "    print(car.upper())\n",
        "  else:\n",
        "    print(car.title())\n",
        "\n",
        "car = \"Suzuki\"\n",
        "car.lower() == \"suzuki\" # the lower function doesn't change the value that was originally stored in car, so you can to this kind of comparison without affecting the original variable.\n",
        "\n",
        "topping = \"mushrooms\"\n",
        "if topping != \"cheese\":\n",
        "  print(\"No\")\n",
        "\n",
        "#Checking whether a value is in the list?\n",
        "\"Audi\" in cars # returns true\n",
        "\"Merc\" in cars # returns false\n",
        "\n",
        "banned_users = [\"AA\", \"BB\", \"CC\"]\n",
        "user = \"dd\"\n",
        "\n",
        "if user not in banned_users:\n",
        "  print(f\"{user.upper()}, write here\")\n",
        "\n",
        "age = 12\n",
        "if age < 4:\n",
        "  print(\"admission cost is 0\")\n",
        "elif age < 18:\n",
        "  print(\"admission cost is 25\")\n",
        "else:\n",
        "  print(\"admission cost is 40\")\n",
        "\n",
        "#alternative result\n",
        "\n",
        "if age < 4:\n",
        "  price = 0\n",
        "elif age < 18:\n",
        "  price = 25\n",
        "else:\n",
        "  price = 40\n",
        "print(f\"Your admission cost is ${price}.\")\n",
        "\n",
        "toppings = [\"cheese\", \"tomato\", \"parsley\"]\n",
        "\n",
        "if \"cheese\" in toppings:\n",
        "  print(f\"More cheese.\")\n",
        "if \"tomato\" in toppings:\n",
        "  print(f\"More tomato\")\n",
        "\n",
        "#If statement with lists\n",
        "for topping in toppings:\n",
        "  print(f\"Add more {topping}.\")\n",
        "\n",
        "for topping in toppings:\n",
        "  if topping == \"green peppers\":\n",
        "    print(f\"Sorry we run out of green peppers\")\n",
        "  else:\n",
        "    print(f\"We will add {topping}\")\n",
        "\n",
        "#Checking that a list is not empty\n",
        "\n",
        "requested_toppings = []\n",
        "if requested_toppings: # IMPORTANT!!! When the name of a list is used in an if statement, Python returns True if the list contains at least one item; an empty list evaluates to False.\n",
        "  for requested_toping in requested_toppings:\n",
        "    print(f\"Adding {requested_toping}\")\n",
        "else:\n",
        "  print(\"Are you sure you want a plain pizza?\")\n",
        "\n",
        "available_products = [\"cheese\", \"tomato\", \"pasta\"]\n",
        "\n",
        "requested_products = [\"egg\", \"tomato\",\"pasta\"]\n",
        "\n",
        "for requested_product in requested_products:\n",
        "  if requested_product in available_products:\n",
        "    print(f\"adding {requested_product}\")\n",
        "  else:\n",
        "    print(f\"Sorry don't have {requested_product}\")\n"
      ],
      "execution_count": 3,
      "outputs": [
        {
          "output_type": "stream",
          "text": [
            "BMW\n",
            "Audi\n",
            "Toyota\n",
            "Skoda\n",
            "Bentley\n",
            "No\n",
            "DD, write here\n",
            "admission cost is 25\n",
            "Your admission cost is $25.\n",
            "More cheese.\n",
            "More tomato\n",
            "Add more cheese.\n",
            "Add more tomato.\n",
            "Add more parsley.\n",
            "We will add cheese\n",
            "We will add tomato\n",
            "We will add parsley\n",
            "Are you sure you want a plain pizza?\n",
            "Sorry don't have egg\n",
            "adding tomato\n",
            "adding pasta\n",
            "ERROR! Session/line number was not unique in database. History logging moved to new session 59\n"
          ],
          "name": "stdout"
        }
      ]
    },
    {
      "cell_type": "markdown",
      "metadata": {
        "id": "5gtkEQ1Y2Xx_",
        "colab_type": "text"
      },
      "source": [
        "# Dictionaries\n",
        "Dictionary in Python is a collection of key-value parts. Each key is connected to avalue, and you can use a key to access the value associated with that key.\n",
        "In Python dictionary is wrapped in braces, {}.\n",
        "\n",
        "***Using get() to Access Values** Using keys in suqare brackets to retrieve the value you're interested in from a dictionary might cause one potential problem: if the key you ask for doesn't exist, you will get an error. For dictionaries, specifically, you can use the get() method to set a default value that will be returned if the requested key doesn't exist. Get() method requires a key as a first argument. As a second optional argument, you can pass the value to be returned if they key doesn't exist.\n",
        "\n",
        "**Looping through a dictionary**.Several different ways exist to loop through a dictionary. You can loop through all of a dictionary's key-value pairs, through its keys, or through its values. **items() method** returns a list of key-value pairs followed after the dictionary name.\n",
        "**keys() method** returns a list of keys from the dictionary. Looping through the keys is actually the default behaviour. Python code would have the same output without keys() method.\n",
        "When you wrap **set()** around a list that contains duplicate ites, Python identifiese the unique items in the list and builds a set from those items.\n",
        "\n",
        "Dictionaries and sets are both wrapped in braces. When you see braces but no key-value pairs, you're probably looking at a set.\n",
        "\n",
        "Sometimes you'll want to store multiple dictionaries in a list, or a list of items as a value in a dictionary. This is called **nesting**. You can nest dictionaries inside a list, a list of tems inside a dictionary, or even dictionary inside another dictionary. It's common to store a number of dictionaries in a list when each dictionary contains many inds of information about one object.\n"
      ]
    },
    {
      "cell_type": "code",
      "metadata": {
        "id": "IgOCYbXz27Wo",
        "colab_type": "code",
        "outputId": "a5e3d151-673b-47fb-d908-479eeaefba0a",
        "colab": {
          "base_uri": "https://localhost:8080/",
          "height": 1000
        }
      },
      "source": [
        "alien_0 = {\"colour\": \"green\", \"points\": 5}\n",
        "print(alien_0[\"colour\"]) # This returns the value associated with the KEY \"colour\" from the dictionary\n",
        "\n",
        "#Adding new key-value pairs\n",
        "alien_0[\"x_position\"] = 0\n",
        "alien_0[\"y_position\"] = 25\n",
        "alien_0[\"speed\"] = \"medium\"\n",
        "\n",
        "#Removing Key-value pairs\n",
        "del alien_0[\"colour\"] # IMPORTANT!!! Key-value pair is removed permanently\n",
        "del alien_0[\"points\"]\n",
        "\n",
        "#Starting with an empty dictionary\n",
        "cars = {}\n",
        "cars[\"Audi\"] = \"expensive\"\n",
        "cars[\"Bmw\"] = \"v expensive\"\n",
        "\n",
        "#Modifying values\n",
        "\n",
        "cars[\"Audi\"] = \"cheap\"\n",
        "print(f\"I can buy a {cars['Audi']} Audi\")\n",
        "\n",
        "if alien_0[\"speed\"] == \"slow\":\n",
        "  x_increment = 1\n",
        "elif alien_0[\"speed\"] == \"medium\":\n",
        "  x_increment = 2\n",
        "else:\n",
        "  x_increment = 3\n",
        "alien_0[\"x_position\"] = alien_0[\"x_position\"] + x_increment\n",
        "print(f\"New position {alien_0['x_position']}\")\n",
        "\n",
        "# A dictionary of similar objects\n",
        "\n",
        "favourite_languages = {\n",
        "    \"jen\": \"python\",\n",
        "    \"sarah\": \"c\",\n",
        "    \"edward\": \"ruby\",\n",
        "    \"phil\": \"python\",\n",
        "}\n",
        "print(f\"Sarah's favourite language is {favourite_languages['sarah'].title()}\")\n",
        "\n",
        "missing_key_value_pair = cars.get(\"Toyota\", \"No value assigned\") # if the key \"Toyota\" exists in the dictionary, you will get the corresponding value.\n",
        "print(missing_key_value_pair)\n",
        "\n",
        "#Looping through a Dictionary\n",
        "user_0 = {\n",
        "    \"username\": \"efermi\",\n",
        "    \"first\": \"enrico\",\n",
        "    \"last\": \"fermi\",\n",
        "}\n",
        "for key, value in user_0.items(): #IMPORTANT method items() returns a list of key-value pairs.\n",
        "  print(f\"Key: {key}\")\n",
        "  print(f\"\\nValue: {value}\")\n",
        "\n",
        "for name, language in favourite_languages.items():\n",
        "  print(f\"{name.title()}'s favourite language is {language.title()}\")\n",
        "\n",
        "#Looping through All the keys in a dictionary\n",
        "\n",
        "for name in favourite_languages.keys(): # Python would return same result without using keys() method.\n",
        "  print(name)\n",
        "\n",
        "friends = [\"phil\", \"sarah\"]\n",
        "for name in favourite_languages.keys():\n",
        "  print(f\"Hi {name.title()}\")\n",
        "  if name in friends:\n",
        "    print(f\"{name.title()}, I see you like {favourite_languages[name].title()}\") #You could have assigned a variable: langue = favourite_languages[name].title()\n",
        "\n",
        "if \"erin\" not in favourite_languages.keys():\n",
        "  print(f\"Erin, please take our poll\")\n",
        "\n",
        "#Looping through a Dictionary's Keys in a particular Order\n",
        "for name in sorted(favourite_languages.keys()):\n",
        "  print(name) # by default looping through a dictionary returns the items in the same order they were inserted.\n",
        "\n",
        "#Looping through ALL Values in a Dictionary\n",
        "for name in favourite_languages.values():\n",
        "  print(name.title()) # this approach pulls all values from the dictionary without checking for repeats.\n",
        "\n",
        "for name in set(favourite_languages.values()):\n",
        "  print(name.lower())\n",
        "\n",
        "#Nesting\n",
        "alien_1 = {\"colour\": \"green\", \"points\": 5}\n",
        "alien_2 = {\"colour\": \"yellow\", \"points\": 10}\n",
        "alien_3 = {\"colour\": \"red\", \"points\": 15}\n",
        "\n",
        "alliens = [alien_1, alien_2, alien_3]\n",
        "\n",
        "#A list in a Dictionary\n",
        "pizza = {\n",
        "    \"crust\": \"thick\",\n",
        "    \"toppings\": [\"mushrooms\", \"extra cheese\"]\n",
        "}\n",
        "print(f\"You ordered a {pizza['crust']}-crust pizza \" \n",
        "      \"with the following toppings:\")\n",
        "for topping in pizza[\"toppings\"]:\n",
        "  print(f\"\\t{topping}\")\n",
        "\n",
        "languagesss = {\n",
        "    \"jen\": [\"python\", \"ruby\"],\n",
        "    \"sarah\": [\"c\",\"go\"],\n",
        "    \"edward\": [\"ruby\"],\n",
        "    \"phil\": [\"python\"],\n",
        "}\n",
        "\n",
        "for name, lang in languagesss.items():\n",
        "  print(f\"\\n{name.title()}'s favourite langauges are:\")\n",
        "  for lange in lang:\n",
        "    print(f\"{lange.upper()}\")\n",
        "\n",
        "#A dictionary in a dictionary\n",
        "\n",
        "users = {\n",
        "    \"aeinstein\": {\n",
        "        \"first\": \"albert\",\n",
        "        \"last\": \"aeinstein\",\n",
        "        \"location\": \"princeton\",},\n",
        "         \n",
        "         \"mcurie\": {\n",
        "             \"first\": \"marie\",\n",
        "             \"last\": \"curie\",\n",
        "             \"location\": \"paris\",},\n",
        "}\n",
        "\n",
        "for username, user_info in users.items():\n",
        "  print(f\"\\n{username}\")\n",
        "  full_name = f\"{user_info['first']} {user_info['last']}\"\n",
        "  location = user_info[\"location\"]\n",
        "  print(f\"\\fFull name: {full_name.title()}\")\n",
        "  print(f\"\\fLocation: {location.title()}\")\n",
        "\n",
        "\n",
        "\n",
        "\n",
        "\n",
        "\n",
        "\n",
        "\n",
        "\n",
        "\n"
      ],
      "execution_count": 21,
      "outputs": [
        {
          "output_type": "stream",
          "text": [
            "green\n",
            "I can buy a cheap Audi\n",
            "New position 2\n",
            "Sarah's favourite language is C\n",
            "No value assigned\n",
            "Key: username\n",
            "\n",
            "Value: efermi\n",
            "Key: first\n",
            "\n",
            "Value: enrico\n",
            "Key: last\n",
            "\n",
            "Value: fermi\n",
            "Jen's favourite language is Python\n",
            "Sarah's favourite language is C\n",
            "Edward's favourite language is Ruby\n",
            "Phil's favourite language is Python\n",
            "jen\n",
            "sarah\n",
            "edward\n",
            "phil\n",
            "Hi Jen\n",
            "Hi Sarah\n",
            "Sarah, I see you like C\n",
            "Hi Edward\n",
            "Hi Phil\n",
            "Phil, I see you like Python\n",
            "Erin, please take our poll\n",
            "edward\n",
            "jen\n",
            "phil\n",
            "sarah\n",
            "Python\n",
            "C\n",
            "Ruby\n",
            "Python\n",
            "c\n",
            "python\n",
            "ruby\n",
            "You ordered a thick-crust pizza with the following toppings:\n",
            "\tmushrooms\n",
            "\textra cheese\n",
            "\n",
            "Jen's favourite langauges are:\n",
            "PYTHON\n",
            "RUBY\n",
            "\n",
            "Sarah's favourite langauges are:\n",
            "C\n",
            "GO\n",
            "\n",
            "Edward's favourite langauges are:\n",
            "RUBY\n",
            "\n",
            "Phil's favourite langauges are:\n",
            "PYTHON\n",
            "\n",
            "aeinstein\n",
            "\fFull name: Albert Aeinstein\n",
            "\fLocation: Princeton\n",
            "\n",
            "mcurie\n",
            "\fFull name: Marie Curie\n",
            "\fLocation: Paris\n"
          ],
          "name": "stdout"
        }
      ]
    },
    {
      "cell_type": "code",
      "metadata": {
        "id": "ZWECMeGAMG7r",
        "colab_type": "code",
        "colab": {}
      },
      "source": [
        ""
      ],
      "execution_count": 0,
      "outputs": []
    }
  ]
}