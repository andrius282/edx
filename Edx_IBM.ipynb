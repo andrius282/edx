{
  "nbformat": 4,
  "nbformat_minor": 0,
  "metadata": {
    "colab": {
      "name": "Edx IBM",
      "provenance": [],
      "collapsed_sections": [],
      "toc_visible": true,
      "authorship_tag": "ABX9TyMolpYbm6zaSahgTRHIl5pu",
      "include_colab_link": true
    },
    "kernelspec": {
      "name": "python3",
      "display_name": "Python 3"
    }
  },
  "cells": [
    {
      "cell_type": "markdown",
      "metadata": {
        "id": "view-in-github",
        "colab_type": "text"
      },
      "source": [
        "<a href=\"https://colab.research.google.com/github/andrius282/edx/blob/master/Edx_IBM.ipynb\" target=\"_parent\"><img src=\"https://colab.research.google.com/assets/colab-badge.svg\" alt=\"Open In Colab\"/></a>"
      ]
    },
    {
      "cell_type": "markdown",
      "metadata": {
        "id": "zHHplq9lJYjc",
        "colab_type": "text"
      },
      "source": [
        "# Intro\n",
        "\n",
        "The value in the parentheses is called the\n",
        "argument.\n",
        "\n",
        "Lists and tuples, are called compound data types and are one of the key types of data structures in Python.\n",
        "\n",
        "Sets and dictionaries are types of collections."
      ]
    },
    {
      "cell_type": "code",
      "metadata": {
        "id": "9WP8EXRUUfpd",
        "colab_type": "code",
        "outputId": "05afe62e-fc7c-4e2a-999f-1d3d8208f326",
        "colab": {
          "base_uri": "https://localhost:8080/",
          "height": 35
        }
      },
      "source": [
        "type(1) #shows a data type of an expression\n",
        "\n",
        "float(2) # converts int 2 to a float\n",
        "int(3.4) # returns float to an int. Result is 3\n",
        "type(True) # A Boolean can take on two values. The first value is true, just remember we use an uppercase T. Boolean values can also be False\n",
        "#If you cast a 1 to a Boolean, you get a true. Similarly, if you cast a 0 to a Boolean, you get a false.\n"
      ],
      "execution_count": 0,
      "outputs": [
        {
          "output_type": "execute_result",
          "data": {
            "text/plain": [
              "bool"
            ]
          },
          "metadata": {
            "tags": []
          },
          "execution_count": 72
        }
      ]
    },
    {
      "cell_type": "markdown",
      "metadata": {
        "id": "x1maHvEqWJu8",
        "colab_type": "text"
      },
      "source": [
        "# Expressions & Variables\n",
        "\n",
        "Expressions describe a type of operation that computers perform. Basic arithmetic operations like adding multiple numbers. \n",
        "\n",
        "We call the numbers **Operands** and math symbols - **Operators**.\n",
        "\n",
        "25/5 will result in a float 5.0 if you want int value use double sign //\n",
        "\n",
        "Python follows mathematical convention. E.g 2+2*2 = 6\n",
        "\n",
        "We can use variables to store values which can be upadated.We can also perform operations on A and save the result to a new variable"
      ]
    },
    {
      "cell_type": "code",
      "metadata": {
        "id": "H50w7h_3WSeA",
        "colab_type": "code",
        "outputId": "353a3db0-b36c-49bd-b121-cf3ef45e1281",
        "colab": {
          "base_uri": "https://localhost:8080/",
          "height": 69
        }
      },
      "source": [
        "A = 10\n",
        "print(A)\n",
        "A = 3\n",
        "print(A)\n",
        "\n",
        "y = 15//A\n",
        "print(y)\n"
      ],
      "execution_count": 0,
      "outputs": [
        {
          "output_type": "stream",
          "text": [
            "10\n",
            "3\n",
            "5\n"
          ],
          "name": "stdout"
        }
      ]
    },
    {
      "cell_type": "markdown",
      "metadata": {
        "id": "nSIHrb3OYo15",
        "colab_type": "text"
      },
      "source": [
        "#String\n",
        "In Python, a string is a sequence of characters. A string is contained within single or double quotes.\n",
        "\n",
        "It is helpful to think of a string as an ordered sequence. Each element in the sequence can be accessed using an index represented by the array of numbers.  The **method find**, finds sub-strings. The argument is the sub-string you would like\n",
        "to find. The output is the first index of the sequence.\n",
        "\n",
        "***Strings are immutable.***\n"
      ]
    },
    {
      "cell_type": "code",
      "metadata": {
        "id": "Bg3VnwKcZ3zT",
        "colab_type": "code",
        "outputId": "0a1a8c9d-e735-4217-b739-6eb6c7cae732",
        "colab": {
          "base_uri": "https://localhost:8080/",
          "height": 87
        }
      },
      "source": [
        "name = \"Andrius a\"\n",
        "capital = name.upper()\n",
        "print(capital)\n",
        "\n",
        "name.replace(\"A\",\"AA\")\n",
        "print(name)\n",
        "\n",
        "c = capital.replace(\"S\",\"s\")\n",
        "print(c)\n",
        "\n",
        "b = name.find(\"a\")\n",
        "print(b)"
      ],
      "execution_count": 0,
      "outputs": [
        {
          "output_type": "stream",
          "text": [
            "ANDRIUS A\n",
            "Andrius a\n",
            "ANDRIUs A\n",
            "8\n"
          ],
          "name": "stdout"
        }
      ]
    },
    {
      "cell_type": "markdown",
      "metadata": {
        "id": "T8DV8gcLcS_1",
        "colab_type": "text"
      },
      "source": [
        "# Tuples & List\n",
        "These are called compound data types and are one of the key types of data structures in Python.\n",
        "\n",
        "Tuples are an ordered sequence.Tuples are expressed as comma-separated elements within parentheses. These are values inside the parentheses. In Python, there are different types: strings, integer, float. They can all be contained in a tuple, but the type of the variable is tuple.\n",
        "\n",
        "Each element of a tuple can be accessed via an index. First element of a tuple starts from **0**.\n",
        "\n",
        "**Tuples are immutable!!!** if we would like to manipulate a tuple, we must create a new tuple instead.\n",
        "\n",
        "A tuple can contain other tuples as well as other complex data types; this is called nesting. We can access these elements using the standard indexing methods.\n",
        "\n",
        "Lists are also an ordered sequence.  A list is represented with square brackets. In many respects lists are like tuples, one key difference is **they are mutable.** Lists can contain strings, floats, integers.\n",
        "We can nest other lists. We also nest tuples and other data structures; the same indexing conventions apply for nesting.\n",
        "\n",
        "Lists are mutable, therefore, we can change them.\n",
        "For example, we apply the method extends by adding a \"dot\" followed by the name of the method, then parenthesis. The argument inside the parenthesis is a new list that we are going to concatenate to the original list.\n",
        "\n",
        "We can delete an element of a list using the \"del\" command; we simply indicate the list item we would like to remove as an argument.\n",
        "\n",
        "**We can convert a string to a list using split.** For example, the method split converts every group of characters separated by a space into an element of a list. We can use the split function to separate strings on a specific character, known as a delimiter. We simply pass the delimiter we would like to split on as an argument, in this case a comma.\n",
        "\n",
        "You can clone lists. (see example below)"
      ]
    },
    {
      "cell_type": "code",
      "metadata": {
        "id": "tsOVCQCCcsE9",
        "colab_type": "code",
        "outputId": "edba73f5-fa34-4a98-d6e2-42961c600107",
        "colab": {
          "base_uri": "https://localhost:8080/",
          "height": 208
        }
      },
      "source": [
        "ratings = (1,2,3,4,5,6,7,8)\n",
        "\n",
        "tuple1 = (\"Dance\",2,4.5, \"Disco\")\n",
        "type(tuple1)\n",
        "print(tuple1[0]) # returns a first element - result is \"Dance\"\n",
        "\n",
        "tuple2 = tuple1 + (\"Go\", 3.5, 222) #We can concatenate or combine tuples by adding them. Value \"Dance\" would still be index 0.\n",
        "print(tuple2)\n",
        "\n",
        "print(tuple2[0:3]) # returns first three elements\n",
        "len(tuple2) # returns a lenght of a tuple\n",
        "\n",
        "tuple3 = (1,3,(\"DD\",3),4,5)\n",
        "print(tuple3[2]) # a tuple inside in a tuple has one index value.\n",
        "print(tuple3[2][1]) # after that we can access another values in a tuple.\n",
        "\n",
        "list1 = [1,3,4,\"DD\",\"EE\"]\n",
        "list2 = list1 + [1.2,3,5,\"cc,ss\"]\n",
        "print(list2[8])\n",
        "list1.extend([\"Andrius\",\"AA\",\"Lambo, Ferrari\"]) # two new elements has last index numbers.\n",
        "print(list1)\n",
        "\n",
        "list1.append([\"RS,VV,WW\"]) # adds three new values as one new value as a list.\n",
        "print(list1)\n",
        "\n",
        "list1[0] =\"New item instead of 1\"\n",
        "print(list1)\n",
        "\n",
        "del(list1[2:3]) # deletes first three element in a list\n",
        "print(list1)\n",
        "\n",
        "\"Hard rock\".split #splits a string into a list separated by a space\n",
        "\"A,B,c,d,e\".split(\",\") # split values into a list that had been specified by \",\" delimiter.\n",
        "\n",
        "cc = [1,2,3]\n",
        "dd = cc[:] #clones a list. Variable \"cc\" references one list. Variable “dd” references a new copy or clone of the original list. Now if you change “cc”, \"dd\" will not change.\n",
        "cc[0] = 4\n",
        "print(cc)\n",
        "#help(cc) #provides a list of functions what you can do with a list"
      ],
      "execution_count": 0,
      "outputs": [
        {
          "output_type": "stream",
          "text": [
            "Dance\n",
            "('Dance', 2, 4.5, 'Disco', 'Go', 3.5, 222)\n",
            "('Dance', 2, 4.5)\n",
            "('DD', 3)\n",
            "3\n",
            "cc,ss\n",
            "[1, 3, 4, 'DD', 'EE', 'Andrius', 'AA', 'Lambo, Ferrari']\n",
            "[1, 3, 4, 'DD', 'EE', 'Andrius', 'AA', 'Lambo, Ferrari', ['RS,VV,WW']]\n",
            "['New item instead of 1', 3, 4, 'DD', 'EE', 'Andrius', 'AA', 'Lambo, Ferrari', ['RS,VV,WW']]\n",
            "['New item instead of 1', 3, 'DD', 'EE', 'Andrius', 'AA', 'Lambo, Ferrari', ['RS,VV,WW']]\n",
            "[4, 2, 3]\n"
          ],
          "name": "stdout"
        }
      ]
    },
    {
      "cell_type": "markdown",
      "metadata": {
        "id": "5gtkEQ1Y2Xx_",
        "colab_type": "text"
      },
      "source": [
        "# Sets\n",
        "Sets are a type of collection. This means that like lists and tuples, you\n",
        "can input different python types. Unlike lists and tuples they are unordered.\n",
        "This means sets do not record element position. Sets only have unique elements. To define a set, you use curly brackets You place the elements of a set within the curly brackets.\n",
        "\n",
        "You can convert a list to a set by using the function **set**; this is called type-casting.\n"
      ]
    },
    {
      "cell_type": "code",
      "metadata": {
        "id": "IgOCYbXz27Wo",
        "colab_type": "code",
        "outputId": "7d3841eb-1489-4642-f4ab-b9f6bf0be9d2",
        "colab": {
          "base_uri": "https://localhost:8080/",
          "height": 201
        }
      },
      "source": [
        "set1 = {\"A\",\"b\",\"b\",\"c\",\"d\"}\n",
        "len(set1) # result is 4.\n",
        "\n",
        "list1 = [1,2,2,2,3,4]\n",
        "newset = set(list1)"
      ],
      "execution_count": 0,
      "outputs": [
        {
          "output_type": "error",
          "ename": "TypeError",
          "evalue": "ignored",
          "traceback": [
            "\u001b[0;31m---------------------------------------------------------------------------\u001b[0m",
            "\u001b[0;31mTypeError\u001b[0m                                 Traceback (most recent call last)",
            "\u001b[0;32m<ipython-input-83-3bfac6525509>\u001b[0m in \u001b[0;36m<module>\u001b[0;34m()\u001b[0m\n\u001b[1;32m      3\u001b[0m \u001b[0;34m\u001b[0m\u001b[0m\n\u001b[1;32m      4\u001b[0m \u001b[0mlist1\u001b[0m \u001b[0;34m=\u001b[0m \u001b[0;34m[\u001b[0m\u001b[0;36m1\u001b[0m\u001b[0;34m,\u001b[0m\u001b[0;36m2\u001b[0m\u001b[0;34m,\u001b[0m\u001b[0;36m2\u001b[0m\u001b[0;34m,\u001b[0m\u001b[0;36m2\u001b[0m\u001b[0;34m,\u001b[0m\u001b[0;36m3\u001b[0m\u001b[0;34m,\u001b[0m\u001b[0;36m4\u001b[0m\u001b[0;34m]\u001b[0m\u001b[0;34m\u001b[0m\u001b[0;34m\u001b[0m\u001b[0m\n\u001b[0;32m----> 5\u001b[0;31m \u001b[0mnewset\u001b[0m \u001b[0;34m=\u001b[0m \u001b[0mset\u001b[0m\u001b[0;34m(\u001b[0m\u001b[0mlist1\u001b[0m\u001b[0;34m)\u001b[0m\u001b[0;34m\u001b[0m\u001b[0;34m\u001b[0m\u001b[0m\n\u001b[0m",
            "\u001b[0;31mTypeError\u001b[0m: 'set' object is not callable"
          ]
        }
      ]
    }
  ]
}